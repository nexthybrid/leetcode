{
 "cells": [
  {
   "cell_type": "markdown",
   "id": "675b8f7b-8c08-4a38-8bb5-b43e531fd536",
   "metadata": {},
   "source": [
    "45. Jump Game II\n",
    "\n",
    "Given an array of non-negative integers nums, you are initially positioned at the first index of the array.\n",
    "\n",
    "Each element in the array represents your maximum jump length at that position.\n",
    "\n",
    "Your goal is to reach the last index in the minimum number of jumps.\n",
    "\n",
    "You can assume that you can always reach the last index.\n",
    "\n",
    " \n",
    "```\n",
    "Example 1:\n",
    "\n",
    "Input: nums = [2,3,1,1,4]\n",
    "Output: 2\n",
    "Explanation: The minimum number of jumps to reach the last index is 2. Jump 1 step from index 0 to 1, then 3 steps to the last index.\n",
    "```\n",
    "Constraints:\n",
    "```\n",
    "1 <= nums.length <= 10e4\n",
    "0 <= nums[i] <= 1000\n",
    "```"
   ]
  },
  {
   "cell_type": "code",
   "execution_count": 24,
   "id": "54a5826b-68f2-4caa-9134-851463815057",
   "metadata": {},
   "outputs": [],
   "source": [
    "# version 1, bottom-up DP without recursion. \n",
    "# time complexity is O(N**2), space complexity is O(N)\n",
    "class Solution(object):\n",
    "    def jump(self, nums):\n",
    "        \"\"\"\n",
    "        :type nums: List[int]\n",
    "        :rtype: int\n",
    "        \"\"\"\n",
    "        N = len(nums)\n",
    "        S = {N-1:0} # initialize dictionary to store the subproblem costs\n",
    "        \n",
    "        for k in range(N-2,-1,-1): # range(start,stop,step)\n",
    "            if nums[k] == 0:\n",
    "                S[k] = 100000\n",
    "            else:\n",
    "                # min(S[k+1],...,S[k+nums[k]])\n",
    "                min_ctg = 100000 # initialize\n",
    "                for p in range(k+1,min(k+nums[k]+1,N),1): # range(start,stop,step)\n",
    "                    min_ctg = min(min_ctg,S[p])\n",
    "                S[k] = 1 + min_ctg\n",
    "        return S[0]"
   ]
  },
  {
   "cell_type": "code",
   "execution_count": 27,
   "id": "4531956e-5fbc-4d2c-b73b-baf51884357e",
   "metadata": {},
   "outputs": [],
   "source": [
    "# version 2, bottom-up DP without recursion. And storing the results of \n",
    "# min(S[x],S[x+1],...,S[y]) in a data table Memo indexed by x and y.\n",
    "# time complexity is O(N), space complexity is O(N+N**2)=O(N**2)\n",
    "class Solution(object):\n",
    "    def jump(self, nums):\n",
    "        \"\"\"\n",
    "        :type nums: List[int]\n",
    "        :rtype: int\n",
    "        \"\"\"\n",
    "        N = len(nums)\n",
    "        S = {N-1:0} # initialize dictionary to store the subproblem costs\n",
    "        Memo = {} # data table for storing min(S[x],S[x+1],...,S[y]), indexed by (x,y)\n",
    "        \n",
    "        for k in range(N-2,-1,-1):\n",
    "            if nums[k] == 0:\n",
    "                S[k] = 100000\n",
    "            else:\n",
    "                # min(S[k+1],...,S[k+nums[k]])\n",
    "                # first lookup the value in Memo\n",
    "                if (k+1,k+nums[k]) in Memo.keys():\n",
    "                    S[k] = 1 + Memo[(k+1,k+nums[k])]\n",
    "                else:\n",
    "                    min_ctg = 100000 # initialize\n",
    "                    for p in range(k+1,min(k+nums[k]+1,N),1): # range(start,stop,step)\n",
    "                        min_ctg = min(min_ctg,S[p])\n",
    "                    # update Memo of this new entry with x=k+1, y=k+nums[k]\n",
    "                    Memo[(k+1,k+nums[k])] = min_ctg\n",
    "                    S[k] = 1 + min_ctg\n",
    "                    \n",
    "        return S[0]"
   ]
  },
  {
   "cell_type": "code",
   "execution_count": 38,
   "id": "e8ec457a-d4c1-4a1b-ba45-d9684deafa8d",
   "metadata": {},
   "outputs": [],
   "source": [
    "# version 3, using the greedy intuition proved in Leetcode solution\n",
    "class Solution(object):\n",
    "    def jump(self, nums):\n",
    "        \"\"\"\n",
    "        :type nums: List[int]\n",
    "        :rtype: int\n",
    "        \"\"\"\n",
    "        N = len(nums)\n",
    "        if N == 1:\n",
    "            return 0\n",
    "        k = 0 # initialize current index position\n",
    "        jump_count = 0\n",
    "        while k < N-1 and k+nums[k] < N-1: # when the last index is not yet within reach of one jump\n",
    "            max_index = k\n",
    "            curr_max = 0\n",
    "            # maximize the total distance possible in the next two jumps, p + nums[k+p]\n",
    "            # p is the distance took for the first jump\n",
    "            for p in range(1,nums[k]+1):\n",
    "                if p + nums[k+p] >= curr_max: # NOTE: >= instead of > here.\n",
    "                    max_index = p # update the index to add to get the maximum value\n",
    "                    curr_max = p + nums[k+p] # update the maximum value\n",
    "            # jump to the index with the maximum value\n",
    "            k += max_index\n",
    "            jump_count += 1\n",
    "        # when we come out of the while loop, we are within one-jump reach of the last index\n",
    "        return jump_count + 1\n",
    "        \n",
    "        "
   ]
  },
  {
   "cell_type": "code",
   "execution_count": 39,
   "id": "761c1c0c-687a-4a40-9020-f93d3b86b3fe",
   "metadata": {},
   "outputs": [
    {
     "name": "stdout",
     "output_type": "stream",
     "text": [
      "input [2,3,1,1,4], expect 2\n",
      "2\n",
      "input [2,3,0,1,4], expect 2\n",
      "2\n",
      "input [2,1], expect 1\n",
      "1\n",
      "input [0], expect 0\n",
      "0\n",
      "input [10,9,8,7,6,5,4,3,2,1,1,0], expect 2\n",
      "2\n"
     ]
    }
   ],
   "source": [
    "# test cases\n",
    "\n",
    "s = Solution()\n",
    "print('input [2,3,1,1,4], expect 2')\n",
    "print(s.jump([2,3,1,1,4]))\n",
    "\n",
    "print('input [2,3,0,1,4], expect 2')\n",
    "print(s.jump([2,3,0,1,4]))\n",
    "\n",
    "print('input [2,1], expect 1')\n",
    "print(s.jump([2,1]))\n",
    "\n",
    "print('input [0], expect 0')\n",
    "print(s.jump([0]))\n",
    "\n",
    "print('input [10,9,8,7,6,5,4,3,2,1,1,0], expect 2')\n",
    "print(s.jump([10,9,8,7,6,5,4,3,2,1,1,0]))\n",
    "\n"
   ]
  },
  {
   "cell_type": "code",
   "execution_count": 9,
   "id": "c25cda8a-1ced-4297-821d-79421b2bfd05",
   "metadata": {},
   "outputs": [
    {
     "name": "stdout",
     "output_type": "stream",
     "text": [
      "1\n"
     ]
    }
   ],
   "source": [
    "for i in range(1,2):\n",
    "    print(i)"
   ]
  },
  {
   "cell_type": "code",
   "execution_count": null,
   "id": "da023b52-bfdc-4d20-bedf-c4bb5aeff803",
   "metadata": {},
   "outputs": [],
   "source": []
  }
 ],
 "metadata": {
  "kernelspec": {
   "display_name": "Python 3 (ipykernel)",
   "language": "python",
   "name": "python3"
  },
  "language_info": {
   "codemirror_mode": {
    "name": "ipython",
    "version": 3
   },
   "file_extension": ".py",
   "mimetype": "text/x-python",
   "name": "python",
   "nbconvert_exporter": "python",
   "pygments_lexer": "ipython3",
   "version": "3.8.12"
  }
 },
 "nbformat": 4,
 "nbformat_minor": 5
}
