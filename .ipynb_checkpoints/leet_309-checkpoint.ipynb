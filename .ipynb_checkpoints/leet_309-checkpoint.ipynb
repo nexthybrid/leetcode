{
 "cells": [
  {
   "cell_type": "markdown",
   "id": "99d63cc4-0971-44b4-a3cd-17545464656f",
   "metadata": {},
   "source": [
    "309. Best Time to Buy and Sell Stock with Cooldown\n",
    "\n",
    "You are given an array prices where prices[i] is the price of a given stock on the ith day.\n",
    "\n",
    "Find the maximum profit you can achieve. You may complete as many transactions as you like (i.e., buy one and sell one share of the stock multiple times) with the following restrictions:\n",
    "\n",
    "After you sell your stock, you cannot buy stock on the next day (i.e., cooldown one day).\n",
    "Note: You may not engage in multiple transactions simultaneously (i.e., you must sell the stock before you buy again).\n",
    "\n",
    "Example 1:\n",
    "```\n",
    "Input: prices = [1,2,3,0,2]\n",
    "Output: 3\n",
    "Explanation: transactions = [buy, sell, cooldown, buy, sell]\n",
    "```\n",
    "Constraints:\n",
    "```\n",
    "1 <= prices.length <= 5000\n",
    "0 <= prices[i] <= 1000\n",
    "```"
   ]
  },
  {
   "cell_type": "code",
   "execution_count": 7,
   "id": "c863070f-2fb8-4d86-b013-936cc3bf6499",
   "metadata": {},
   "outputs": [],
   "source": [
    "class Solution(object):\n",
    "    def maxProfit(self, prices):\n",
    "        \"\"\"\n",
    "        :type prices: List[int]\n",
    "        :rtype: int\n",
    "        \"\"\"\n",
    "        N = len(prices)\n",
    "        # state 0 for empty, 1 for holding, 2 for frozen\n",
    "        R = [0, -10000, -10000]\n",
    "        R_new = [-10000, -10000, -10000] # our temporary variable\n",
    "        for k in range(1,N):\n",
    "            price_yesterday = prices[k-1]\n",
    "            R_new[0] = max(R[0],R[2])\n",
    "            R_new[1] = max(R[0]-price_yesterday,R[1])\n",
    "            R_new[2] = R[1]+price_yesterday\n",
    "            # update R\n",
    "            R = R_new[:] # a deep copy, whereas R = R_new is a shallow copy\n",
    "        # clear the holding stock value on last day\n",
    "        R[1] = R[1]+prices[-1]\n",
    "        return max(R)\n",
    "        "
   ]
  },
  {
   "cell_type": "code",
   "execution_count": 8,
   "id": "1ac1b69e-6abc-49c2-bebb-e63bffdf97fd",
   "metadata": {},
   "outputs": [
    {
     "name": "stdout",
     "output_type": "stream",
     "text": [
      "input [1,2,3,0,2], expect 3\n",
      "3\n"
     ]
    }
   ],
   "source": [
    "# test cases\n",
    "\n",
    "s = Solution()\n",
    "\n",
    "\n",
    "print('input [1,2,3,0,2], expect 3')\n",
    "print(s.maxProfit([1,2,3,0,2]))\n",
    "\n",
    "\n"
   ]
  },
  {
   "cell_type": "code",
   "execution_count": 4,
   "id": "f30d1cad-a000-41c3-93e7-ef2b30e66774",
   "metadata": {},
   "outputs": [
    {
     "data": {
      "text/plain": [
       "[4, 5, 6]"
      ]
     },
     "execution_count": 4,
     "metadata": {},
     "output_type": "execute_result"
    }
   ],
   "source": [
    "P = [1,2,3]\n",
    "P_new = [4,5,6]\n",
    "P[:] = P_new[:]\n",
    "P"
   ]
  },
  {
   "cell_type": "code",
   "execution_count": null,
   "id": "d6d7da43-7553-49fe-9f58-6556a9965d00",
   "metadata": {},
   "outputs": [],
   "source": []
  }
 ],
 "metadata": {
  "kernelspec": {
   "display_name": "Python 3 (ipykernel)",
   "language": "python",
   "name": "python3"
  },
  "language_info": {
   "codemirror_mode": {
    "name": "ipython",
    "version": 3
   },
   "file_extension": ".py",
   "mimetype": "text/x-python",
   "name": "python",
   "nbconvert_exporter": "python",
   "pygments_lexer": "ipython3",
   "version": "3.8.12"
  }
 },
 "nbformat": 4,
 "nbformat_minor": 5
}
