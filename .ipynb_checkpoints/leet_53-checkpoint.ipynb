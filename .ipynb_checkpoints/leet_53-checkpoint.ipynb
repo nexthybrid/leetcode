{
 "cells": [
  {
   "cell_type": "markdown",
   "id": "5ff569e2-4daf-4e6c-b805-88848c4afda4",
   "metadata": {},
   "source": [
    "53. Maximum Subarray\n",
    "\n",
    "Given an integer array nums, find the contiguous subarray (containing at least one number) which has the largest sum and return its sum.\n",
    "\n",
    "A subarray is a contiguous part of an array.\n",
    "\n",
    " \n",
    "```\n",
    "Example 1:\n",
    "\n",
    "Input: nums = [-2,1,-3,4,-1,2,1,-5,4]\n",
    "Output: 6\n",
    "Explanation: [4,-1,2,1] has the largest sum = 6.\n",
    "```\n",
    "\n",
    "\n",
    "Constraints:\n",
    "```\n",
    "1 <= nums.length <= 10e5\n",
    "-10e4 <= nums[i] <= 10e4\n",
    "```"
   ]
  },
  {
   "cell_type": "code",
   "execution_count": 8,
   "id": "e8b83feb-9929-4a1c-bb67-1da53247504e",
   "metadata": {},
   "outputs": [],
   "source": [
    "# version 1: bottom-up DP, with a killer insight to bring time complexity down\n",
    "# time complexity O(N)\n",
    "# space complexity O(1)\n",
    "class Solution(object):\n",
    "    def maxSubArray(self, nums):\n",
    "        \"\"\"\n",
    "        :type nums: List[int]\n",
    "        :rtype: int\n",
    "        \"\"\"\n",
    "        N =len(nums)\n",
    "        if N == 1:\n",
    "            return nums[0]\n",
    "        ind_best_end = N-1 # current best subarray endpoint\n",
    "        curr_gain = 0 # current best gain from the beginning of subproblem to ind_best_end\n",
    "        curr_max = 0 # current maximum sum of subarray we are currently sitting on\n",
    "        global_max = -10000 # global maximum sum found so far\n",
    "        flag_end_change = True # flag to indicate whether ind_best_end has changed in the last iteration\n",
    "        \n",
    "        for k in range(N-1,-1,-1):\n",
    "            # module 1 try the new potential best sum, update curr_max and global_max\n",
    "            if flag_end_change: # change the endpoint of investigation\n",
    "                curr_max = nums[k]\n",
    "            else: # continue to build on the current local max\n",
    "                if nums[k] >= 0:\n",
    "                    if curr_gain + nums[k] > curr_max:\n",
    "                        curr_max = curr_gain + nums[k]\n",
    "            if curr_max > global_max:\n",
    "                global_max = curr_max\n",
    "            \n",
    "            # module 2 update ind_best_end, then curr_gain\n",
    "            if nums[k] >= 0:\n",
    "                flag_end_change = False\n",
    "            else:\n",
    "                if nums[k] + curr_gain < 0:\n",
    "                    # reset and ditch the whole subproblem alltogether\n",
    "                    ind_best_end = k-1\n",
    "                    flag_end_change = True\n",
    "                else:\n",
    "                    flag_end_change = False\n",
    "            if flag_end_change:\n",
    "                curr_gain = 0\n",
    "            else:\n",
    "                curr_gain += nums[k]\n",
    "                    \n",
    "        return global_max"
   ]
  },
  {
   "cell_type": "code",
   "execution_count": 11,
   "id": "97107999-07f8-4339-98e4-2dd411f47cdc",
   "metadata": {},
   "outputs": [
    {
     "name": "stdout",
     "output_type": "stream",
     "text": [
      "input [-2,1,-3,4,-1,2,1,-5,4], expect 6\n",
      "6\n",
      "input [5,4,-1,7,8], expect 23\n",
      "23\n",
      "input [1], expect 1\n",
      "1\n",
      "input [-1], expect -1\n",
      "-1\n",
      "input [-2,-1], expect -1\n",
      "-1\n",
      "input [-1,-2], expect -1\n",
      "-1\n"
     ]
    }
   ],
   "source": [
    "# test cases\n",
    "\n",
    "s = Solution()\n",
    "print('input [-2,1,-3,4,-1,2,1,-5,4], expect 6')\n",
    "print(s.maxSubArray([-2,1,-3,4,-1,2,1,-5,4]))\n",
    "\n",
    "print('input [5,4,-1,7,8], expect 23')\n",
    "print(s.maxSubArray([5,4,-1,7,8]))\n",
    "\n",
    "print('input [1], expect 1')\n",
    "print(s.maxSubArray([1]))\n",
    "\n",
    "print('input [-1], expect -1')\n",
    "print(s.maxSubArray([-1]))\n",
    "\n",
    "print('input [-2,-1], expect -1')\n",
    "print(s.maxSubArray([-2,-1]))\n",
    "\n",
    "print('input [-1,-2], expect -1')\n",
    "print(s.maxSubArray([-1,-2]))\n"
   ]
  },
  {
   "cell_type": "code",
   "execution_count": null,
   "id": "8003bc54-4a95-473a-83aa-d213f38e5016",
   "metadata": {},
   "outputs": [],
   "source": [
    "test = [1,2,3,4]\n",
    "test[0:1]"
   ]
  },
  {
   "cell_type": "code",
   "execution_count": null,
   "id": "2f78f098-4989-4140-863f-8154c6b733d4",
   "metadata": {},
   "outputs": [],
   "source": [
    "for i in range(5,-1,-1):\n",
    "    print(i)"
   ]
  },
  {
   "cell_type": "code",
   "execution_count": null,
   "id": "d725e7c3-adf1-4010-950f-f766a925bc90",
   "metadata": {},
   "outputs": [],
   "source": []
  }
 ],
 "metadata": {
  "kernelspec": {
   "display_name": "Python 3 (ipykernel)",
   "language": "python",
   "name": "python3"
  },
  "language_info": {
   "codemirror_mode": {
    "name": "ipython",
    "version": 3
   },
   "file_extension": ".py",
   "mimetype": "text/x-python",
   "name": "python",
   "nbconvert_exporter": "python",
   "pygments_lexer": "ipython3",
   "version": "3.8.12"
  }
 },
 "nbformat": 4,
 "nbformat_minor": 5
}
