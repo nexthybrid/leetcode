{
 "cells": [
  {
   "cell_type": "markdown",
   "id": "49e82d3f-d269-4d1a-9b73-5f7106ab6134",
   "metadata": {},
   "source": [
    "122. Best Time to Buy and Sell Stock II\n",
    "\n",
    "You are given an integer array prices where prices[i] is the price of a given stock on the ith day.\n",
    "\n",
    "On each day, you may decide to buy and/or sell the stock. You can only hold at most one share of the stock at any time. However, you can buy it then immediately sell it on the same day.\n",
    "\n",
    "Find and return the maximum profit you can achieve.\n",
    "\n",
    " \n",
    "\n",
    "Example 1:\n",
    "```\n",
    "Input: prices = [7,1,5,3,6,4]\n",
    "Output: 7\n",
    "Explanation: Buy on day 2 (price = 1) and sell on day 3 (price = 5), profit = 5-1 = 4.\n",
    "Then buy on day 4 (price = 3) and sell on day 5 (price = 6), profit = 6-3 = 3.\n",
    "Total profit is 4 + 3 = 7.\n",
    "```\n",
    "Constraints:\n",
    "```\n",
    "1 <= prices.length <= 3 * 10e4\n",
    "0 <= prices[i] <= 10e4\n",
    "```\n"
   ]
  },
  {
   "cell_type": "code",
   "execution_count": 5,
   "id": "35683af7-e03b-4a4a-9d64-848f3f9361b8",
   "metadata": {},
   "outputs": [],
   "source": [
    "# version 1: buy any dip, sell any peak\n",
    "# does not rely on future step information, decision is made right now\n",
    "# time O(N), space O(1)\n",
    "class Solution(object):\n",
    "    def maxProfit(self, prices):\n",
    "        \"\"\"\n",
    "        :type prices: List[int]\n",
    "        :rtype: int\n",
    "        \"\"\"\n",
    "        v_bestbuy = prices[0] # initialize with worst case scenario\n",
    "        v_bestsell = prices[0]\n",
    "        profit = 0\n",
    "        rise_streak = False\n",
    "        for p in prices+[0]: # adding a 'virtual' price 0 day at the end\n",
    "            # this virtual price 0 day will force a possible sell on the last day.\n",
    "            if rise_streak and p < v_bestsell:\n",
    "                #  yesterday is a sell day\n",
    "                profit += v_bestsell - v_bestbuy # update profit\n",
    "                v_bestbuy, v_bestsell = p, p # reset v_bestbuy, v_bestsell\n",
    "            elif p < v_bestsell:\n",
    "                v_bestbuy, v_bestsell = p, p # reset v_bestbuy, v_bestsell\n",
    "            else: # p >= v_bestsell\n",
    "                rise_streak = True\n",
    "                v_bestsell = p\n",
    "        \n",
    "        return profit\n",
    "                \n",
    "        \n",
    "        "
   ]
  },
  {
   "cell_type": "code",
   "execution_count": 9,
   "id": "0f43686c-18a8-4be7-bc05-dcc9bcb11e79",
   "metadata": {},
   "outputs": [],
   "source": [
    "# version 2: day-by-day crawlling and accumulating on every up-slope\n",
    "# time O(N), space O(1)\n",
    "class Solution(object):\n",
    "    def maxProfit(self, prices):\n",
    "        \"\"\"\n",
    "        :type prices: List[int]\n",
    "        :rtype: int\n",
    "        \"\"\"\n",
    "        profit = 0\n",
    "        p_yesterday = prices[0]\n",
    "        for p in prices:\n",
    "            if p > p_yesterday:\n",
    "                profit += p - p_yesterday\n",
    "            p_yesterday = p # update p_yesterday\n",
    "        \n",
    "        return profit\n",
    "        "
   ]
  },
  {
   "cell_type": "code",
   "execution_count": 10,
   "id": "ccee83bb-8763-4d7b-a593-0565efee7586",
   "metadata": {},
   "outputs": [
    {
     "name": "stdout",
     "output_type": "stream",
     "text": [
      "input [7,1,5,3,6,4], expect 7\n",
      "7\n",
      "input [1,2,3,4,5], expect 4\n",
      "4\n",
      "input [7,6,4,3,1], expect 0\n",
      "0\n"
     ]
    }
   ],
   "source": [
    "# test cases\n",
    "\n",
    "s = Solution()\n",
    "print('input [7,1,5,3,6,4], expect 7')\n",
    "print(s.maxProfit([7,1,5,3,6,4]))\n",
    "\n",
    "print('input [1,2,3,4,5], expect 4')\n",
    "print(s.maxProfit([1,2,3,4,5]))\n",
    "\n",
    "print('input [7,6,4,3,1], expect 0')\n",
    "print(s.maxProfit([7,6,4,3,1]))"
   ]
  },
  {
   "cell_type": "code",
   "execution_count": null,
   "id": "06c50e01-3b96-4125-96f1-a60d7d968ac0",
   "metadata": {},
   "outputs": [],
   "source": []
  }
 ],
 "metadata": {
  "kernelspec": {
   "display_name": "Python 3 (ipykernel)",
   "language": "python",
   "name": "python3"
  },
  "language_info": {
   "codemirror_mode": {
    "name": "ipython",
    "version": 3
   },
   "file_extension": ".py",
   "mimetype": "text/x-python",
   "name": "python",
   "nbconvert_exporter": "python",
   "pygments_lexer": "ipython3",
   "version": "3.8.12"
  }
 },
 "nbformat": 4,
 "nbformat_minor": 5
}
