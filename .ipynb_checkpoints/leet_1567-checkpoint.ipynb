{
 "cells": [
  {
   "cell_type": "markdown",
   "id": "bc536562-1053-4630-b395-7986a163359d",
   "metadata": {},
   "source": [
    "1567. Maximum Length of Subarray With Positive Product\n",
    "\n",
    "Given an array of integers nums, find the maximum length of a subarray where the product of all its elements is positive.\n",
    "\n",
    "A subarray of an array is a consecutive sequence of zero or more values taken out of that array.\n",
    "\n",
    "Return the maximum length of a subarray with positive product.\n",
    "\n",
    "```\n",
    "Input: nums = [1,-2,-3,4]\n",
    "Output: 4\n",
    "Explanation: The array nums already has a positive product of 24.\n",
    "\n",
    "Input: nums = [0,1,-2,-3,-4]\n",
    "Output: 3\n",
    "Explanation: The longest subarray with positive product is [1,-2,-3] which has a product of 6.\n",
    "Notice that we cannot include 0 in the subarray since that'll make the product 0 which is not positive.\n",
    "\n",
    "Input: nums = [-1,-2,-3,0,1]\n",
    "Output: 2\n",
    "Explanation: The longest subarray with positive product is [-1,-2] or [-2,-3].\n",
    "```\n",
    "Constraints:\n",
    "```\n",
    "1 <= nums.length <= 10e5\n",
    "-10e9 <= nums[i] <= 10e9\n",
    "```"
   ]
  },
  {
   "cell_type": "code",
   "execution_count": 12,
   "id": "037fdd4a-a912-4b9a-a2a6-998f4fdfecfa",
   "metadata": {},
   "outputs": [],
   "source": [
    "class Solution(object):\n",
    "    def getMaxLen(self, nums):\n",
    "        \"\"\"\n",
    "        :type nums: List[int]\n",
    "        :rtype: int\n",
    "        \"\"\"\n",
    "        N = len(nums)\n",
    "        if N == 1:\n",
    "            if nums[0] <= 0:\n",
    "                return 0\n",
    "            else:\n",
    "                return 1\n",
    "        length_max = 0 # intialize the global maximum length that satisfies problem.\n",
    "        ind_start = 0 # initialize the starting index of the current subarray.\n",
    "        odd_neg = False # initialize the oddness of negative values seen in the current subarray\n",
    "        never_seen_neg_before = True\n",
    "        k_neg_1 = None\n",
    "        k_neg_2 = None\n",
    "        for k in range(N):\n",
    "            if nums[k] == 0: # calculate the max legit length, and reset everything\n",
    "                if odd_neg: # we need to decide which negative value and the trailing positives to throw\n",
    "                    # compare the # of trailing positive on left, and on right\n",
    "                    if k_neg_1 == None: # we HAVE negative values in this current subarray\n",
    "                        n_pos_trailing_left = k_neg_1 - ind_start\n",
    "                        n_pos_trailing_right = (k-1) - k_neg_2\n",
    "                        if n_pos_trailing_left >= n_pos_trailing_right: # save the left branch\n",
    "                            length = (k-ind_start)-(n_pos_trailing_right+1)\n",
    "                        else: # save the right branch\n",
    "                            length = (k-ind_start)-(n_pos_trailing_left+1)\n",
    "                    else: # we DON'T HAVE negative values in this current subarray\n",
    "                        length = (k-ind_start)\n",
    "                else: # even number of negatives in current subarray\n",
    "                    length = (k-ind_start)\n",
    "                length_max = max(length_max,length) # update length_max if current length is larger\n",
    "                # reset memories about the current subarray\n",
    "                never_seen_neg_before = True\n",
    "                ind_start = k+1\n",
    "                odd_neg = False\n",
    "                k_neg_1 = None\n",
    "                k_neg_2 = None\n",
    "            else: # update odd_neg, k_neg_1, k_neg_2\n",
    "                if nums[k] < 0:\n",
    "                    odd_neg = not odd_neg # flip the oddness\n",
    "                    if never_seen_neg_before:\n",
    "                        k_neg_1 = k\n",
    "                    k_neg_2 = k # index of the current negative value\n",
    "        \n",
    "        return length_max\n",
    "                    "
   ]
  },
  {
   "cell_type": "code",
   "execution_count": 13,
   "id": "7f734166-1c38-46ad-93c4-7c8395886aa6",
   "metadata": {},
   "outputs": [
    {
     "name": "stdout",
     "output_type": "stream",
     "text": [
      "input [1,-2,-3,4], expect 4\n",
      "0\n"
     ]
    }
   ],
   "source": [
    "# test cases\n",
    "\n",
    "s = Solution()\n",
    "print('input [1,-2,-3,4], expect 4')\n",
    "print(s.getMaxLen([1,-2,-3,4]))"
   ]
  },
  {
   "cell_type": "code",
   "execution_count": null,
   "id": "8f8e3acf-51c6-40dc-a526-902f709e5d66",
   "metadata": {},
   "outputs": [],
   "source": []
  }
 ],
 "metadata": {
  "kernelspec": {
   "display_name": "Python 3 (ipykernel)",
   "language": "python",
   "name": "python3"
  },
  "language_info": {
   "codemirror_mode": {
    "name": "ipython",
    "version": 3
   },
   "file_extension": ".py",
   "mimetype": "text/x-python",
   "name": "python",
   "nbconvert_exporter": "python",
   "pygments_lexer": "ipython3",
   "version": "3.8.12"
  }
 },
 "nbformat": 4,
 "nbformat_minor": 5
}
