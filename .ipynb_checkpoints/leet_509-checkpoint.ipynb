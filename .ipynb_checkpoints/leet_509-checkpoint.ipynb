{
 "cells": [
  {
   "cell_type": "markdown",
   "id": "ebdf9662",
   "metadata": {},
   "source": [
    "The Fibonacci numbers, commonly denoted F(n) form a sequence, called the Fibonacci sequence, such that each number is the sum of the two preceding ones, starting from 0 and 1. That is,\n",
    "```\n",
    "F(0) = 0, F(1) = 1\n",
    "F(n) = F(n - 1) + F(n - 2), for n > 1.\n",
    "```"
   ]
  },
  {
   "cell_type": "code",
   "execution_count": null,
   "id": "204482c1",
   "metadata": {},
   "outputs": [],
   "source": [
    "def F_iter(n):\n",
    "    \"\"\"\n",
    "    F_iter: the iteration function for Fibonacci series\n",
    "    :type n: int\n",
    "    :rtype: int\n",
    "    Examples:\n",
    "    \n",
    "    F_iter(0) -> 0\n",
    "    F_iter(1) -> 1\n",
    "    F_iter(2) -> 1\n",
    "    F)iter(3) -> 2\n",
    "    \"\"\"\n",
    "    if (n==0):\n",
    "        return 0\n",
    "    elif (n==1):\n",
    "        return 1\n",
    "    else:\n",
    "        return F_iter(n-1)+F_iter(n-2)\n",
    "    "
   ]
  },
  {
   "cell_type": "code",
   "execution_count": null,
   "id": "aceda913",
   "metadata": {},
   "outputs": [],
   "source": [
    "# test cases\n",
    "print('input 0, expect 0')\n",
    "print(F_iter(0))\n",
    "print('input 1, expect 1')\n",
    "print(F_iter(1))\n",
    "print('input 2, expect 1')\n",
    "print(F_iter(2))\n",
    "print('input 3, expect 2')\n",
    "print(F_iter(3))\n",
    "print('input 4, expect 3')\n",
    "print(F_iter(4))\n",
    "print('input 5, expect 5')\n",
    "print(F_iter(5))\n",
    "print('input 6, expect 8')\n",
    "print(F_iter(6))"
   ]
  },
  {
   "cell_type": "markdown",
   "id": "a5b2d75e",
   "metadata": {},
   "source": [
    "We will next use class member function to test the same function code above"
   ]
  },
  {
   "cell_type": "code",
   "execution_count": 1,
   "id": "1d66190e",
   "metadata": {},
   "outputs": [],
   "source": [
    "class Solution(object):\n",
    "    \n",
    "    stored_list = [] # a list to store calculated Fibonacci numbers, e.g. [0,1,1,2,3,5,8]\n",
    "    \n",
    "    def fib(self, n):\n",
    "        \"\"\"\n",
    "        fib: the iteration function for Fibonacci series\n",
    "        :type n: int\n",
    "        :rtype: int\n",
    "        Examples:\n",
    "\n",
    "        fib(0) -> 0\n",
    "        fib(1) -> 1\n",
    "        fib(2) -> 1\n",
    "        fib(3) -> 2\n",
    "        \"\"\"\n",
    "        if (n==0):\n",
    "            return 0\n",
    "        elif (n==1):\n",
    "            return 1\n",
    "        else:\n",
    "            return self.fib(n-1)+self.fib(n-2)\n",
    "        \n",
    "    def fibV2(self,n):\n",
    "        \"\"\"\n",
    "        fibV2: using DP for Fibonacci series\n",
    "        :type n: int\n",
    "        :rtype: int\n",
    "        \"\"\"\n",
    "        # check if the value is already in the list\n",
    "        if len(self.stored_list) > n:\n",
    "            return self.stored_list[n]\n",
    "        # if not, expand the list until you have your answer\n",
    "        else:\n",
    "            self.extend_list(n)\n",
    "            return self.stored_list[n]\n",
    "            #self.fibV2(n) # come back to this function again after extending the list\n",
    "            \n",
    "    def extend_list(self,n):\n",
    "        \"\"\"\n",
    "        extend_list: given n, extend self.stored_list to have n+1 elements (0,1,...,n)\n",
    "        :type n: int\n",
    "        :rtype: none\n",
    "        \"\"\"\n",
    "        # look at how many elements the self.stored_list already has, and start from there\n",
    "        l0 = len(self.stored_list)\n",
    "        if l0 < 2: # initialize stored_list as [0,1] if stored_list has less than 2 elements\n",
    "            self.stored_list = [0,1]\n",
    "            self.extend_list(n)\n",
    "        elif n>=2:\n",
    "            for i in range(l0,n+1):\n",
    "                self.stored_list.append(self.stored_list[i-1]+self.stored_list[i-2])\n",
    "        "
   ]
  },
  {
   "cell_type": "code",
   "execution_count": null,
   "id": "eeb3bca8",
   "metadata": {},
   "outputs": [],
   "source": [
    "# test cases for s.fib\n",
    "s = Solution()\n",
    "\n",
    "print('input 0, expect 0')\n",
    "print(s.fib(0))\n",
    "print('input 1, expect 1')\n",
    "print(s.fib(1))\n",
    "print('input 2, expect 1')\n",
    "print(s.fib(2))\n",
    "print('input 3, expect 2')\n",
    "print(s.fib(3))\n",
    "print('input 4, expect 3')\n",
    "print(s.fib(4))\n",
    "print('input 5, expect 5')\n",
    "print(s.fib(5))\n",
    "print('input 6, expect 8')\n",
    "print(s.fib(6))"
   ]
  },
  {
   "cell_type": "code",
   "execution_count": 3,
   "id": "cf22646d",
   "metadata": {},
   "outputs": [
    {
     "name": "stdout",
     "output_type": "stream",
     "text": [
      "input 0, expect 0\n",
      "0\n",
      "input 1, expect 1\n",
      "1\n",
      "input 2, expect 1\n",
      "1\n",
      "input 3, expect 2\n",
      "2\n",
      "input 4, expect 3\n",
      "3\n",
      "input 5, expect 5\n",
      "5\n",
      "input 6, expect 8\n",
      "8\n"
     ]
    }
   ],
   "source": [
    "# test cases for s.fibV2 (DP version)\n",
    "s = Solution()\n",
    "\n",
    "print('input 0, expect 0')\n",
    "print(s.fibV2(0))\n",
    "print('input 1, expect 1')\n",
    "print(s.fibV2(1))\n",
    "print('input 2, expect 1')\n",
    "print(s.fibV2(2))\n",
    "print('input 3, expect 2')\n",
    "print(s.fibV2(3))\n",
    "print('input 4, expect 3')\n",
    "print(s.fibV2(4))\n",
    "print('input 5, expect 5')\n",
    "print(s.fibV2(5))\n",
    "print('input 6, expect 8')\n",
    "print(s.fibV2(6))"
   ]
  },
  {
   "cell_type": "code",
   "execution_count": null,
   "id": "618f834c",
   "metadata": {},
   "outputs": [],
   "source": [
    "test_list = [0,1]\n",
    "test_list[1]"
   ]
  },
  {
   "cell_type": "code",
   "execution_count": null,
   "id": "3e24681e-c706-4c95-b981-7369e58ebb41",
   "metadata": {},
   "outputs": [],
   "source": []
  }
 ],
 "metadata": {
  "kernelspec": {
   "display_name": "Python 3 (ipykernel)",
   "language": "python",
   "name": "python3"
  },
  "language_info": {
   "codemirror_mode": {
    "name": "ipython",
    "version": 3
   },
   "file_extension": ".py",
   "mimetype": "text/x-python",
   "name": "python",
   "nbconvert_exporter": "python",
   "pygments_lexer": "ipython3",
   "version": "3.8.12"
  }
 },
 "nbformat": 4,
 "nbformat_minor": 5
}
