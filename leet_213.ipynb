{
 "cells": [
  {
   "cell_type": "markdown",
   "id": "58891be1-3e28-47c2-bcb7-5308014d00f5",
   "metadata": {},
   "source": [
    "213. House robbers II\n",
    "\n",
    "You are a professional robber planning to rob houses along a street. Each house has a certain amount of money stashed. All houses at this place are arranged in a circle. That means the first house is the neighbor of the last one. Meanwhile, adjacent houses have a security system connected, and it will automatically contact the police if two adjacent houses were broken into on the same night.\n",
    "\n",
    "Given an integer array nums representing the amount of money of each house, return the maximum amount of money you can rob tonight without alerting the police.\n",
    "\n",
    "```\n",
    "Input: nums = [2,3,2]\n",
    "Output: 3\n",
    "Explanation: You cannot rob house 1 (money = 2) and then rob house 3 (money = 2), because they are adjacent houses.\n",
    "```"
   ]
  },
  {
   "cell_type": "code",
   "execution_count": 1,
   "id": "2b216cc1-5449-4da6-a70e-22f8af60648a",
   "metadata": {},
   "outputs": [],
   "source": [
    "# we take the code from leet 198 and modify upon it\n",
    "class Solution(object):\n",
    "    # a simplified expression for the same code above\n",
    "    def rob(self,nums):\n",
    "        \"\"\"\n",
    "        :type nums: List[int]\n",
    "        :rtype: int\n",
    "        \"\"\"\n",
    "        if len(nums) == 1:\n",
    "            return nums[0]\n",
    "        elif len(nums) == 2:\n",
    "            return max(nums[0],nums[1])\n",
    "        else:\n",
    "            r1 = self.robInRow(nums[0:-1])\n",
    "            r2 = self.robInRow(nums[1:None])\n",
    "            return max(r1,r2)\n",
    "    \n",
    "    def robInRow(self, nums):\n",
    "        \"\"\"\n",
    "        :type nums: List[int]\n",
    "        :rtype: int\n",
    "        \"\"\"\n",
    "        R = {} # Dictionary to store the two values R[k+1] R[k+2], e.g. {'k+1':3,'k+2':1} for Example 1\n",
    "        n = len(nums)\n",
    "        # calculate R['n-1']\n",
    "        R['k+2'] = nums[n-1]\n",
    "        R_k = R['k+2']\n",
    "        # calculate R['n-2'] if n>=2\n",
    "        if n >= 2:\n",
    "            R['k+1'] = max(nums[n-2],nums[n-1])\n",
    "            R_k = R['k+1']\n",
    "            # calculate R['n-3'] if n>=3\n",
    "            if n >= 3:\n",
    "                for k in range(n-3,-1,-1):\n",
    "                    R_k = max(nums[k]+R['k+2'],R['k+1']) \n",
    "                    # update R['k+2'],R['k+1']\n",
    "                    R['k+2'] = R['k+1']\n",
    "                    R['k+1'] = R_k\n",
    "                    \n",
    "        return R_k"
   ]
  },
  {
   "cell_type": "code",
   "execution_count": 2,
   "id": "9b503925-2408-4941-8576-82ec9695e4b9",
   "metadata": {},
   "outputs": [
    {
     "name": "stdout",
     "output_type": "stream",
     "text": [
      "input [1,2,3,1], expect 4\n",
      "4\n",
      "input [2,3,2], expect 3\n",
      "3\n",
      "input [1,2,1,1], expect 3\n",
      "3\n"
     ]
    }
   ],
   "source": [
    "# test cases\n",
    "\n",
    "s = Solution()\n",
    "\n",
    "print('input [1,2,3,1], expect 4')\n",
    "print(s.rob([1,2,3,1]))\n",
    "print('input [2,3,2], expect 3')\n",
    "print(s.rob([2,3,2]))\n",
    "print('input [1,2,1,1], expect 3')\n",
    "print(s.rob([1,2,1,1]))"
   ]
  },
  {
   "cell_type": "code",
   "execution_count": null,
   "id": "22e4c9d5-97ea-40c5-82ba-9c6f49f4f6cc",
   "metadata": {},
   "outputs": [],
   "source": []
  }
 ],
 "metadata": {
  "kernelspec": {
   "display_name": "Python 3 (ipykernel)",
   "language": "python",
   "name": "python3"
  },
  "language_info": {
   "codemirror_mode": {
    "name": "ipython",
    "version": 3
   },
   "file_extension": ".py",
   "mimetype": "text/x-python",
   "name": "python",
   "nbconvert_exporter": "python",
   "pygments_lexer": "ipython3",
   "version": "3.8.12"
  }
 },
 "nbformat": 4,
 "nbformat_minor": 5
}
