{
 "cells": [
  {
   "cell_type": "markdown",
   "id": "b7910660-ecac-457d-ab03-fc7c6693548e",
   "metadata": {},
   "source": [
    "152. Maximum Product Subarray\n",
    "\n",
    "Given an integer array nums, find a contiguous non-empty subarray within the array that has the largest product, and return the product.\n",
    "\n",
    "The test cases are generated so that the answer will fit in a 32-bit integer.\n",
    "\n",
    "A subarray is a contiguous subsequence of the array.\n",
    "\n",
    " \n",
    "```\n",
    "Example 1:\n",
    "\n",
    "Input: nums = [2,3,-2,4]\n",
    "Output: 6\n",
    "Explanation: [2,3] has the largest product 6.\n",
    "```\n",
    "Constraints:\n",
    "```\n",
    "1 <= nums.length <= 2 * 10e4\n",
    "-10 <= nums[i] <= 10\n",
    "The product of any prefix or suffix of nums is guaranteed to fit in a 32-bit integer.\n",
    "```"
   ]
  },
  {
   "cell_type": "code",
   "execution_count": 6,
   "id": "f3c9d319-304f-4a40-8af0-02d3ad93f919",
   "metadata": {},
   "outputs": [],
   "source": [
    "class Solution(object):\n",
    "    \n",
    "    def maxProduct(self, nums):\n",
    "        \"\"\"\n",
    "        :type nums: List[int]\n",
    "        :rtype: int\n",
    "        \"\"\"\n",
    "        # find all the zeros (compartment doors)\n",
    "        N = len(nums)\n",
    "        if N == 1:\n",
    "            return nums[0]\n",
    "        zeros_list = []\n",
    "        for k in range(N):\n",
    "            if nums[k] == 0:\n",
    "                zeros_list.append(k)\n",
    "        # split the original list into sublists divided by the zeros\n",
    "        if len(zeros_list) == 0:\n",
    "            return self.maxProductZeroFree(nums)\n",
    "        else:\n",
    "            sublist_max = [] # container for sublist max products\n",
    "            ind_start = 0 # initialize sublist start index in original nums list\n",
    "            for zero in zeros_list:\n",
    "                if zero != 0:\n",
    "                    sublist = nums[ind_start:zero]\n",
    "                    sublist_max.append(self.maxProductZeroFree(sublist))\n",
    "                ind_start = zero+1 # update ind_start\n",
    "            # see if there are still numbers after the last zero\n",
    "            if zeros_list[-1] < N-1:\n",
    "                sublist = nums[zeros_list[-1]+1:]\n",
    "                sublist_max.append(self.maxProductZeroFree(sublist))\n",
    "            # compute the maximum of the sublist max products\n",
    "            # if all the sublists are negative, we rather just return zero\n",
    "            sublist_result = max(sublist_max)\n",
    "            if sublist_result < 0:\n",
    "                return 0\n",
    "            else: \n",
    "                return max(sublist_max)\n",
    "    \n",
    "    def maxProductZeroFree(self, nums):\n",
    "        \"\"\"\n",
    "        :type nums: List[int]\n",
    "        :rtype: int\n",
    "        \"\"\"\n",
    "        N = len(nums)\n",
    "        if N == 1:\n",
    "            return nums[0]\n",
    "        # step 1 count the negatives\n",
    "        n_neg = 0\n",
    "        k = 0 # index in the list\n",
    "        for num in nums:\n",
    "            if num < 0:\n",
    "                if n_neg == 0: # mark the first negative index\n",
    "                    k1 = k\n",
    "                n_neg += 1\n",
    "                k2 = k # this k2 will eventually mark the last negative index (inefficient)\n",
    "            k += 1\n",
    "        # if n_neg is even, just return the product of the full list\n",
    "        product = 1 # initialize\n",
    "        if n_neg % 2 == 0:\n",
    "            for num in nums:\n",
    "                product = product * num\n",
    "            return product\n",
    "        else:\n",
    "            # the left-most negative n1, and the right-most negative n2 are indexed by k1,k2\n",
    "            # compare the product of prod1 = p1*(-n1) and prod2 = (-n2)*p2, and taker the larger one\n",
    "            prod1 = 1\n",
    "            prod2 = 1\n",
    "            for k in range(k1): # multiply all positives in p1\n",
    "                prod1 = prod1 * nums[k]\n",
    "            prod1 = prod1 * (-nums[k1]) # multiply by (-n1)\n",
    "            \n",
    "            if k2 < N-1: # if there're still positive numbers in p2\n",
    "                for k in range(k2+1,N,1): # multiply all positives in p2\n",
    "                    prod2 = prod2 * nums[k]\n",
    "            prod2 = prod2 * (-nums[k2]) # multiply by (-n2)\n",
    "            if prod1 > prod2:\n",
    "                # take the product between nums[0] and nums[k2-1]\n",
    "                for num in nums[:k2]:\n",
    "                    product = product * num\n",
    "                return product\n",
    "            else:\n",
    "                # take the product between nums[k1+1] and nums[N-1]\n",
    "                for num in nums[k1+1:]:\n",
    "                    product = product * num\n",
    "                return product\n",
    "            \n",
    "            "
   ]
  },
  {
   "cell_type": "code",
   "execution_count": 8,
   "id": "afa7be7d-3a04-41bb-8549-9a7e250a812b",
   "metadata": {},
   "outputs": [
    {
     "name": "stdout",
     "output_type": "stream",
     "text": [
      "input [2,3,-2,4], expect 6\n",
      "6\n",
      "input [-2,0,-1], expect 0\n",
      "0\n",
      "input [0], expect 0\n",
      "0\n",
      "input [-2], expect -2\n",
      "-2\n",
      "input [0,2], expect 2\n",
      "2\n",
      "input [0,-2,0], expect 0\n",
      "0\n"
     ]
    }
   ],
   "source": [
    "# test cases\n",
    "\n",
    "s = Solution()\n",
    "print('input [2,3,-2,4], expect 6')\n",
    "print(s.maxProduct([2,3,-2,4]))\n",
    "\n",
    "print('input [-2,0,-1], expect 0')\n",
    "print(s.maxProduct([-2,0,-1]))\n",
    "\n",
    "print('input [0], expect 0')\n",
    "print(s.maxProduct([0]))\n",
    "\n",
    "print('input [-2], expect -2')\n",
    "print(s.maxProduct([-2]))\n",
    "\n",
    "print('input [0,2], expect 2')\n",
    "print(s.maxProduct([0,2]))\n",
    "\n",
    "print('input [0,-2,0], expect 0')\n",
    "print(s.maxProduct([0,-2,0]))"
   ]
  },
  {
   "cell_type": "code",
   "execution_count": 3,
   "id": "b9485b2b-acda-4377-8710-457c82ef6070",
   "metadata": {},
   "outputs": [
    {
     "name": "stdout",
     "output_type": "stream",
     "text": [
      "4\n",
      "5\n"
     ]
    }
   ],
   "source": [
    "numbers = [4,5,6]\n",
    "for number in numbers[:2]:\n",
    "    print(number)"
   ]
  },
  {
   "cell_type": "code",
   "execution_count": 4,
   "id": "6451d32f-9c7b-425c-aa88-200828d075b9",
   "metadata": {},
   "outputs": [
    {
     "data": {
      "text/plain": [
       "[]"
      ]
     },
     "execution_count": 4,
     "metadata": {},
     "output_type": "execute_result"
    }
   ],
   "source": [
    "numbers[0:0]"
   ]
  },
  {
   "cell_type": "code",
   "execution_count": null,
   "id": "cf3f223a-9507-4147-87f4-75b596f00b32",
   "metadata": {},
   "outputs": [],
   "source": []
  }
 ],
 "metadata": {
  "kernelspec": {
   "display_name": "Python 3 (ipykernel)",
   "language": "python",
   "name": "python3"
  },
  "language_info": {
   "codemirror_mode": {
    "name": "ipython",
    "version": 3
   },
   "file_extension": ".py",
   "mimetype": "text/x-python",
   "name": "python",
   "nbconvert_exporter": "python",
   "pygments_lexer": "ipython3",
   "version": "3.8.12"
  }
 },
 "nbformat": 4,
 "nbformat_minor": 5
}
