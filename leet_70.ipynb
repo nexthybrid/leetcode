{
 "cells": [
  {
   "cell_type": "markdown",
   "id": "4aaddc2e-21d1-446d-8dce-fe2ddff25ef0",
   "metadata": {},
   "source": [
    "70. Climb stairs\n",
    "\n",
    "You are climbing a staircase. It takes n steps to reach the top.\n",
    "\n",
    "Each time you can either climb 1 or 2 steps. In how many distinct ways can you climb to the top?\n",
    "\n",
    "```\n",
    "Input: n = 2\n",
    "Output: 2\n",
    "Explanation: There are two ways to climb to the top.\n",
    "1. 1 step + 1 step\n",
    "2. 2 steps\n",
    "```\n",
    "\n",
    "Constraints:\n",
    "```\n",
    "1 <= n <= 45\n",
    "```"
   ]
  },
  {
   "cell_type": "code",
   "execution_count": 15,
   "id": "326f6f4b-4869-49d6-9e96-513d0766cafb",
   "metadata": {},
   "outputs": [],
   "source": [
    "class Solution(object):\n",
    "    \n",
    "    a = {} # storing the calculated results like {'0':0,'1':1}\n",
    "    \n",
    "    def climbStairs(self, n):\n",
    "        \"\"\"\n",
    "        count the number of ways to climb n stairs, using medium stair separation, and Dictionary-stored DP precomputation\n",
    "        :type n: int\n",
    "        :rtype: int\n",
    "        \"\"\"\n",
    "        nMax = 45\n",
    "        self.precompute_solutions(nMax)\n",
    "        return self.a[str(n)]\n",
    "    \n",
    "    def precompute_solutions(self, nMax):\n",
    "        \"\"\"\n",
    "        precomputing the solution for staircases up to n=nMax\n",
    "        \n",
    "        The iterative relationship:\n",
    "        When k (k=3,4,5,...) is odd:\n",
    "        a(k) = a((k-1)/2) * (a((k-3)/2) + a((k+1)/2))\n",
    "        When k is even:\n",
    "        a(k) = a(k/2)**2 + a((k-2)/2)**2\n",
    "        :type nMax: int\n",
    "        :rtype: none\n",
    "        \"\"\"\n",
    "        # initialize the first 3 elements in the dictionary\n",
    "        self.a = {'0':1,'1':1,'2':2}\n",
    "        # apply the recursive relation to fill up to n = nMax\n",
    "        for k in range(3,nMax+1):\n",
    "            if (k % 2) == 1: # k is odd\n",
    "                self.a[str(k)] = self.a[str(int((k-1)/2))] * ( self.a[str(int((k-3)/2))] + self.a[str(int((k+1)/2))] )\n",
    "            else: # k is even\n",
    "                self.a[str(k)] = self.a[str(int(k/2))]**2 + self.a[str(int((k-2)/2))]**2\n",
    "        "
   ]
  },
  {
   "cell_type": "markdown",
   "id": "9759a914-26dc-4441-a95c-c7468f5780f9",
   "metadata": {},
   "source": [
    "Hand calculation of the recursive relation:\n",
    "n = 3, a((k-1)/2) * (a((k-3)/2) + a((k+1)/2)) = a(1) * (a(0)+a(2)) = 1*(1+2) = 3"
   ]
  },
  {
   "cell_type": "code",
   "execution_count": 16,
   "id": "17bd6ef1-7e0a-434e-bc46-fbf21578a895",
   "metadata": {},
   "outputs": [
    {
     "name": "stdout",
     "output_type": "stream",
     "text": [
      "input 1, expect 1\n",
      "1\n",
      "input 2, expect 2\n",
      "2\n",
      "input 3, expect 4\n",
      "3\n",
      "input 4, expect 5\n",
      "5\n",
      "input 5, expect 8\n",
      "8\n",
      "input 6, expect 13\n",
      "13\n"
     ]
    }
   ],
   "source": [
    "# test cases\n",
    "\n",
    "s = Solution()\n",
    "\n",
    "print('input 1, expect 1')\n",
    "print(s.climbStairs(1))\n",
    "print('input 2, expect 2')\n",
    "print(s.climbStairs(2))\n",
    "print('input 3, expect 4')\n",
    "print(s.climbStairs(3))\n",
    "print('input 4, expect 5')\n",
    "print(s.climbStairs(4))\n",
    "print('input 5, expect 8')\n",
    "print(s.climbStairs(5))\n",
    "print('input 6, expect 13')\n",
    "print(s.climbStairs(6))"
   ]
  },
  {
   "cell_type": "code",
   "execution_count": 8,
   "id": "330e7772-67c5-4b78-9b74-f3eb05ef8239",
   "metadata": {},
   "outputs": [
    {
     "name": "stdout",
     "output_type": "stream",
     "text": [
      "0\n"
     ]
    }
   ],
   "source": [
    "print(str(0))"
   ]
  },
  {
   "cell_type": "code",
   "execution_count": null,
   "id": "20188495-b9f7-49cb-bde3-f74e54305db4",
   "metadata": {},
   "outputs": [],
   "source": []
  }
 ],
 "metadata": {
  "kernelspec": {
   "display_name": "Python 3 (ipykernel)",
   "language": "python",
   "name": "python3"
  },
  "language_info": {
   "codemirror_mode": {
    "name": "ipython",
    "version": 3
   },
   "file_extension": ".py",
   "mimetype": "text/x-python",
   "name": "python",
   "nbconvert_exporter": "python",
   "pygments_lexer": "ipython3",
   "version": "3.8.12"
  }
 },
 "nbformat": 4,
 "nbformat_minor": 5
}
