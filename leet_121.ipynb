{
 "cells": [
  {
   "cell_type": "markdown",
   "id": "50078338-dd82-46c6-9ef8-7cf3683d55eb",
   "metadata": {},
   "source": [
    "121. Best Time to Buy and Sell Stock\n",
    "\n",
    "You are given an array prices where prices[i] is the price of a given stock on the ith day.\n",
    "\n",
    "You want to maximize your profit by choosing a single day to buy one stock and choosing a different day in the future to sell that stock.\n",
    "\n",
    "Return the maximum profit you can achieve from this transaction. If you cannot achieve any profit, return 0.\n",
    "\n",
    " \n",
    "\n",
    "Example 1:\n",
    "```\n",
    "Input: prices = [7,1,5,3,6,4]\n",
    "Output: 5\n",
    "Explanation: Buy on day 2 (price = 1) and sell on day 5 (price = 6), profit = 6-1 = 5.\n",
    "Note that buying on day 2 and selling on day 1 is not allowed because you must buy before you sell.\n",
    "```\n",
    "\n",
    "Constraints:\n",
    "```\n",
    "1 <= prices.length <= 10e5\n",
    "0 <= prices[i] <= 10e4|\n",
    "```"
   ]
  },
  {
   "cell_type": "code",
   "execution_count": 5,
   "id": "94dedf46-4702-414d-9276-29ee67a1c225",
   "metadata": {},
   "outputs": [],
   "source": [
    "# version 1: storing max_profit so far, and crawling forward\n",
    "class Solution(object):\n",
    "    def maxProfit(self, prices):\n",
    "        \"\"\"\n",
    "        :type prices: List[int]\n",
    "        :rtype: int\n",
    "        \"\"\"\n",
    "        v_bestbuy = 10e4\n",
    "        v_bestsell = 0\n",
    "        max_profit = 0\n",
    "        for p in prices:\n",
    "            if p < v_bestbuy: # new historical low\n",
    "                v_bestbuy = p\n",
    "                v_bestsell = p # reset v_bestsell upon new historical low\n",
    "            else:\n",
    "                v_bestsell = max(v_bestsell,p)\n",
    "            max_profit = max(max_profit,v_bestsell-v_bestbuy)\n",
    "            \n",
    "        return max_profit\n",
    "        "
   ]
  },
  {
   "cell_type": "code",
   "execution_count": 7,
   "id": "eaa27712-e736-44eb-8dba-d03505a0c915",
   "metadata": {},
   "outputs": [
    {
     "name": "stdout",
     "output_type": "stream",
     "text": [
      "input [7,1,5,3,6,4], expect 5\n",
      "5\n",
      "input [7,6,4,3,1], expect 0\n",
      "0\n"
     ]
    }
   ],
   "source": [
    "# test cases\n",
    "\n",
    "s = Solution()\n",
    "print('input [7,1,5,3,6,4], expect 5')\n",
    "print(s.maxProfit([7,1,5,3,6,4]))\n",
    "\n",
    "\n",
    "print('input [7,6,4,3,1], expect 0')\n",
    "print(s.maxProfit([7,6,4,3,1]))"
   ]
  },
  {
   "cell_type": "code",
   "execution_count": null,
   "id": "07f23376-99e7-4003-a660-52a256463878",
   "metadata": {},
   "outputs": [],
   "source": []
  }
 ],
 "metadata": {
  "kernelspec": {
   "display_name": "Python 3 (ipykernel)",
   "language": "python",
   "name": "python3"
  },
  "language_info": {
   "codemirror_mode": {
    "name": "ipython",
    "version": 3
   },
   "file_extension": ".py",
   "mimetype": "text/x-python",
   "name": "python",
   "nbconvert_exporter": "python",
   "pygments_lexer": "ipython3",
   "version": "3.8.12"
  }
 },
 "nbformat": 4,
 "nbformat_minor": 5
}
