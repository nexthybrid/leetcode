{
 "cells": [
  {
   "cell_type": "markdown",
   "id": "6431d123-ad3b-4b1e-a80c-2e4363d5dbb3",
   "metadata": {},
   "source": [
    "198. House Robber\n",
    "\n",
    "You are a professional robber planning to rob houses along a street. Each house has a certain amount of money stashed, the only constraint stopping you from robbing each of them is that adjacent houses have security systems connected and it will automatically contact the police if two adjacent houses were broken into on the same night.\n",
    "\n",
    "Given an integer array nums representing the amount of money of each house, return the maximum amount of money you can rob tonight without alerting the police.\n",
    "\n",
    "```\n",
    "Example 1\n",
    "Input: nums = [1,2,3,1]\n",
    "Output: 4\n",
    "Explanation: Rob house 1 (money = 1) and then rob house 3 (money = 3).\n",
    "Total amount you can rob = 1 + 3 = 4.\n",
    "```"
   ]
  },
  {
   "cell_type": "code",
   "execution_count": 10,
   "id": "b43a5ac9-1118-4711-8353-17a2caa53e73",
   "metadata": {},
   "outputs": [],
   "source": [
    "# version 1, a little clumsy recursive DP expression\n",
    "class Solution(object):\n",
    "    def rob(self, nums):\n",
    "        \"\"\"\n",
    "        :type nums: List[int]\n",
    "        :rtype: int\n",
    "        \"\"\"\n",
    "        R = {} # Dictionary to store the max reward of robbing house k to n, e.g. {'0':4,'1':3,'2':3,'3':1} for Example 1\n",
    "        n = len(nums)\n",
    "        # calculate R['n-1']\n",
    "        R[str(n-1)] = nums[n-1]\n",
    "        # calculate R['n-2'] if n>=2\n",
    "        if n >= 2:\n",
    "            R[str(n-2)] = max(nums[n-2],nums[n-1])\n",
    "            # calculate R['n-3'] if n>=3\n",
    "            if n >= 3:\n",
    "                R[str(n-3)] = max((nums[n-3]+R[str(n-1)]),nums[n-2])\n",
    "                # calculate the remaining R values if n>=4\n",
    "                if n >= 4:\n",
    "                    for k in range(n-4,-1,-1):\n",
    "                        R[str(k)] = max(nums[k]+R[str(k+2)],nums[k+1]+R[str(k+3)])\n",
    "                        \n",
    "        return R['0']"
   ]
  },
  {
   "cell_type": "code",
   "execution_count": 11,
   "id": "42d4c25c-ace8-4dc4-96c7-a3b0ad5b67fa",
   "metadata": {},
   "outputs": [
    {
     "name": "stdout",
     "output_type": "stream",
     "text": [
      "input [1,2,3,1], expect 4\n",
      "4\n",
      "input [2,7,9,3,1], expect 12\n",
      "12\n"
     ]
    }
   ],
   "source": [
    "# test cases\n",
    "\n",
    "s = Solution()\n",
    "\n",
    "print('input [1,2,3,1], expect 4')\n",
    "print(s.rob([1,2,3,1]))\n",
    "print('input [2,7,9,3,1], expect 12')\n",
    "print(s.rob([2,7,9,3,1]))"
   ]
  },
  {
   "cell_type": "code",
   "execution_count": 12,
   "id": "5ccd2207-1104-4105-9b17-13329046f6b3",
   "metadata": {},
   "outputs": [],
   "source": [
    "# version 2, a simplified recursive DP relation\n",
    "class Solution(object):\n",
    "    # a simplified expression for the same code above\n",
    "    def rob(self, nums):\n",
    "        \"\"\"\n",
    "        :type nums: List[int]\n",
    "        :rtype: int\n",
    "        \"\"\"\n",
    "        R = {} # Dictionary to store the max reward of robbing house k to n, e.g. {'0':4,'1':3,'2':3,'3':1} for Example 1\n",
    "        n = len(nums)\n",
    "        # calculate R['n-1']\n",
    "        R[str(n-1)] = nums[n-1]\n",
    "        # calculate R['n-2'] if n>=2\n",
    "        if n >= 2:\n",
    "            R[str(n-2)] = max(nums[n-2],nums[n-1])\n",
    "            # calculate R['n-3'] if n>=3\n",
    "            if n >= 3:\n",
    "                for k in range(n-3,-1,-1):\n",
    "                    R[str(k)] = max(nums[k]+R[str(k+2)],R[str(k+1)])                       \n",
    "        return R['0']"
   ]
  },
  {
   "cell_type": "code",
   "execution_count": 13,
   "id": "687eb85f-4975-423f-b505-8ea5cb5dc218",
   "metadata": {},
   "outputs": [
    {
     "name": "stdout",
     "output_type": "stream",
     "text": [
      "input [1,2,3,1], expect 4\n",
      "4\n",
      "input [2,7,9,3,1], expect 12\n",
      "12\n"
     ]
    }
   ],
   "source": [
    "# test cases\n",
    "\n",
    "s = Solution()\n",
    "\n",
    "print('input [1,2,3,1], expect 4')\n",
    "print(s.rob([1,2,3,1]))\n",
    "print('input [2,7,9,3,1], expect 12')\n",
    "print(s.rob([2,7,9,3,1]))"
   ]
  },
  {
   "cell_type": "code",
   "execution_count": 14,
   "id": "a6f5083f-cb7a-4aa1-a027-958be6f2b76a",
   "metadata": {},
   "outputs": [],
   "source": [
    "# version 3, optimizing space complexity, reducing Dictionary size to just 2\n",
    "class Solution(object):\n",
    "    # a simplified expression for the same code above\n",
    "    def rob(self, nums):\n",
    "        \"\"\"\n",
    "        :type nums: List[int]\n",
    "        :rtype: int\n",
    "        \"\"\"\n",
    "        R = {} # Dictionary to store the two values R[k+1] R[k+2], e.g. {'k+1':3,'k+2':1} for Example 1\n",
    "        n = len(nums)\n",
    "        # calculate R['n-1']\n",
    "        R['k+2'] = nums[n-1]\n",
    "        R_k = R['k+2']\n",
    "        # calculate R['n-2'] if n>=2\n",
    "        if n >= 2:\n",
    "            R['k+1'] = max(nums[n-2],nums[n-1])\n",
    "            R_k = R['k+1']\n",
    "            # calculate R['n-3'] if n>=3\n",
    "            if n >= 3:\n",
    "                for k in range(n-3,-1,-1):\n",
    "                    R_k = max(nums[k]+R['k+2'],R['k+1']) \n",
    "                    # update R['k+2'],R['k+1']\n",
    "                    R['k+2'] = R['k+1']\n",
    "                    R['k+1'] = R_k\n",
    "                    \n",
    "        return R_k"
   ]
  },
  {
   "cell_type": "code",
   "execution_count": 15,
   "id": "5d83a3d3-8875-4ec9-b488-2cdbb97e3b6a",
   "metadata": {},
   "outputs": [
    {
     "name": "stdout",
     "output_type": "stream",
     "text": [
      "input [1,2,3,1], expect 4\n",
      "4\n",
      "input [2,7,9,3,1], expect 12\n",
      "12\n"
     ]
    }
   ],
   "source": [
    "# test cases\n",
    "\n",
    "s = Solution()\n",
    "\n",
    "print('input [1,2,3,1], expect 4')\n",
    "print(s.rob([1,2,3,1]))\n",
    "print('input [2,7,9,3,1], expect 12')\n",
    "print(s.rob([2,7,9,3,1]))"
   ]
  },
  {
   "cell_type": "code",
   "execution_count": null,
   "id": "c8cd86f1-a671-44dd-b7ff-0d309519198f",
   "metadata": {},
   "outputs": [],
   "source": []
  }
 ],
 "metadata": {
  "kernelspec": {
   "display_name": "Python 3 (ipykernel)",
   "language": "python",
   "name": "python3"
  },
  "language_info": {
   "codemirror_mode": {
    "name": "ipython",
    "version": 3
   },
   "file_extension": ".py",
   "mimetype": "text/x-python",
   "name": "python",
   "nbconvert_exporter": "python",
   "pygments_lexer": "ipython3",
   "version": "3.8.12"
  }
 },
 "nbformat": 4,
 "nbformat_minor": 5
}
