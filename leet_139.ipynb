{
 "cells": [
  {
   "cell_type": "markdown",
   "id": "a2ad0301-8d8b-4c9c-a768-036130d4e170",
   "metadata": {},
   "source": [
    "139. Word Break\n",
    "\n",
    "Given a string s and a dictionary of strings wordDict, return true if s can be segmented into a space-separated sequence of one or more dictionary words.\n",
    "\n",
    "Note that the same word in the dictionary may be reused multiple times in the segmentation.\n",
    "\n",
    "Example \n",
    "```\n",
    "Input: s = \"applepenapple\", wordDict = [\"apple\",\"pen\"]\n",
    "Output: true\n",
    "Explanation: Return true because \"applepenapple\" can be segmented as \"apple pen apple\".\n",
    "Note that you are allowed to reuse a dictionary wor\n",
    "```\n",
    "\n",
    "Constraints:\n",
    "```\n",
    "1 <= s.length <= 300\n",
    "1 <= wordDict.length <= 1000\n",
    "1 <= wordDict[i].length <= 20\n",
    "s and wordDict[i] consist of only lowercase English letters.\n",
    "All the strings of wordDict are unique.\n",
    "```"
   ]
  },
  {
   "cell_type": "code",
   "execution_count": 7,
   "id": "0bbf33b8-efd2-4b65-9ed3-4f928515b552",
   "metadata": {},
   "outputs": [],
   "source": [
    "# version 1 : taken from solution, a bottom-up DP\n",
    "# time complexity O(n^2)\n",
    "# space complexity O(N)\n",
    "\n",
    "class Solution(object):\n",
    "    def wordBreak(self, s, wordDict):\n",
    "        \"\"\"\n",
    "        :type s: str\n",
    "        :type wordDict: List[str]\n",
    "        :rtype: bool\n",
    "        \"\"\"\n",
    "        N = len(s)\n",
    "        validSince = [False] * (N+1)\n",
    "        validSince[-1] = True # assign the last element to be true\n",
    "        for k in range(N-1,-1,-1):\n",
    "            for m in range(k,N,1):\n",
    "                if s[k:m+1] in wordDict and validSince[m+1]:\n",
    "                    validSince[k] = True # udpate validSince at k\n",
    "                    break # break the m loop\n",
    "        return validSince[0]\n",
    "        \n",
    "        "
   ]
  },
  {
   "cell_type": "code",
   "execution_count": 10,
   "id": "558704e6-dafb-4c41-a419-4c200a6273bd",
   "metadata": {},
   "outputs": [
    {
     "name": "stdout",
     "output_type": "stream",
     "text": [
      "input \"leetcode\", [\"leet\",\"code\"], expect True\n",
      "True\n",
      "input \"applepenapple\", [\"apple\",\"pen\"], expect True\n",
      "True\n",
      "input \"catsandog\", [\"cats\",\"dog\",\"sand\",\"and\",\"cat\"], expect False\n",
      "False\n"
     ]
    }
   ],
   "source": [
    "# test cases\n",
    "\n",
    "s = Solution()\n",
    "print('input \"leetcode\", [\"leet\",\"code\"], expect True')\n",
    "print(s.wordBreak(\"leetcode\",[\"leet\",\"code\"]))\n",
    "\n",
    "print('input \"applepenapple\", [\"apple\",\"pen\"], expect True')\n",
    "print(s.wordBreak(\"applepenapple\",[\"apple\",\"pen\"]))\n",
    "\n",
    "print('input \"catsandog\", [\"cats\",\"dog\",\"sand\",\"and\",\"cat\"], expect False')\n",
    "print(s.wordBreak(\"catsandog\",[\"cats\",\"dog\",\"sand\",\"and\",\"cat\"]))"
   ]
  },
  {
   "cell_type": "code",
   "execution_count": null,
   "id": "d98b8e24-8190-433a-887f-ceac9a1e4c35",
   "metadata": {},
   "outputs": [],
   "source": []
  }
 ],
 "metadata": {
  "kernelspec": {
   "display_name": "Python 3 (ipykernel)",
   "language": "python",
   "name": "python3"
  },
  "language_info": {
   "codemirror_mode": {
    "name": "ipython",
    "version": 3
   },
   "file_extension": ".py",
   "mimetype": "text/x-python",
   "name": "python",
   "nbconvert_exporter": "python",
   "pygments_lexer": "ipython3",
   "version": "3.8.12"
  }
 },
 "nbformat": 4,
 "nbformat_minor": 5
}
