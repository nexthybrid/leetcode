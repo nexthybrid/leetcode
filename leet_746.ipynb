{
 "cells": [
  {
   "cell_type": "markdown",
   "id": "4682b40a-1765-4d9f-98f6-543d802af05f",
   "metadata": {},
   "source": [
    "746. Min Cost Climbing Stairs\n",
    "\n",
    "You are given an integer array cost where cost[i] is the cost of ith step on a staircase. Once you pay the cost, you can either climb one or two steps.\n",
    "\n",
    "You can either start from the step with index 0, or the step with index 1.\n",
    "\n",
    "Return the minimum cost to reach the top of the floor.\n",
    "\n",
    "```\n",
    "Input: cost = [10,15,20]\n",
    "Output: 15\n",
    "Explanation: You will start at index 1.\n",
    "- Pay 15 and climb two steps to reach the top.\n",
    "The total cost is 15.\n",
    "```\n",
    "\n",
    "Constraints:\n",
    "```\n",
    "2 <= cost.length <= 1000\n",
    "0 <= cost[i] <= 999\n",
    "```"
   ]
  },
  {
   "cell_type": "code",
   "execution_count": 16,
   "id": "06785f13-2389-4e44-a94a-e6c76cc8ae49",
   "metadata": {},
   "outputs": [],
   "source": [
    "class Solution(object):\n",
    "    \n",
    "    ctg = {} # storing optimal cost-to-go from state x. Keys are strings converted from integer.\n",
    "    \n",
    "    def minCostClimbingStairs(self, cost):\n",
    "        \"\"\"\n",
    "        :type cost: List[int]\n",
    "        :rtype: int\n",
    "        \"\"\"\n",
    "        \n",
    "        n_stair = len(cost)+1 # stair starts with 0\n",
    "        \n",
    "        cost.append(0) # appending the cost list to represent cost of the (virtual) last state\n",
    "        \n",
    "        self.ctg[str(n_stair-1)] = 0 # initialize ctg of the final state\n",
    "        self.ctg[str(n_stair-2)] = 0 # initialize ctg of the last to final state\n",
    "        \n",
    "        for k in range(n_stair-3,-1,-1): # go backwards from n_stair-3 to 0\n",
    "            # ctg calculation\n",
    "            self.ctg[str(k)] = min(cost[k+1]+self.ctg[str(k+1)],cost[k+2]+self.ctg[str(k+2)])\n",
    "            \n",
    "        # choose the minimum between cost[0]+self.ctg['0'] and cost[1]+self.ctg['1']\n",
    "        return min(cost[0]+self.ctg['0'],cost[1]+self.ctg['1'])\n",
    "        "
   ]
  },
  {
   "cell_type": "code",
   "execution_count": 17,
   "id": "d72b59be-ee50-42c2-8ed3-a8e581151c98",
   "metadata": {},
   "outputs": [
    {
     "name": "stdout",
     "output_type": "stream",
     "text": [
      "input [2,5], expect 2\n",
      "2\n",
      "input [2,5,1], expect 3\n",
      "3\n",
      "input [4,1,7,12], expect 8\n",
      "8\n"
     ]
    }
   ],
   "source": [
    "# Test cases\n",
    "\n",
    "s = Solution()\n",
    "print('input [2,5], expect 2')\n",
    "print(s.minCostClimbingStairs([2,5]))\n",
    "print('input [2,5,1], expect 3')\n",
    "print(s.minCostClimbingStairs([2,5,1]))\n",
    "print('input [4,1,7,12], expect 8')\n",
    "print(s.minCostClimbingStairs([4,1,7,12]))"
   ]
  },
  {
   "cell_type": "code",
   "execution_count": null,
   "id": "788201d0-76e9-4647-9db0-21d69ef0b4ed",
   "metadata": {},
   "outputs": [],
   "source": []
  }
 ],
 "metadata": {
  "kernelspec": {
   "display_name": "Python 3 (ipykernel)",
   "language": "python",
   "name": "python3"
  },
  "language_info": {
   "codemirror_mode": {
    "name": "ipython",
    "version": 3
   },
   "file_extension": ".py",
   "mimetype": "text/x-python",
   "name": "python",
   "nbconvert_exporter": "python",
   "pygments_lexer": "ipython3",
   "version": "3.8.12"
  }
 },
 "nbformat": 4,
 "nbformat_minor": 5
}
