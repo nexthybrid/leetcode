{
 "cells": [
  {
   "cell_type": "markdown",
   "id": "43a5564d-d159-40c5-bdb2-fa760745c7b6",
   "metadata": {},
   "source": [
    "714. Best Time to Buy and Sell Stock with Transaction Fee\n",
    "\n",
    "You are given an array prices where prices[i] is the price of a given stock on the ith day, and an integer fee representing a transaction fee.\n",
    "\n",
    "Find the maximum profit you can achieve. You may complete as many transactions as you like, but you need to pay the transaction fee for each transaction.\n",
    "\n",
    "Note: You may not engage in multiple transactions simultaneously (i.e., you must sell the stock before you buy again).\n",
    "\n",
    " \n",
    "\n",
    "Example 1:\n",
    "```\n",
    "Input: prices = [1,3,2,8,4,9], fee = 2\n",
    "Output: 8\n",
    "Explanation: The maximum profit can be achieved by:\n",
    "- Buying at prices[0] = 1\n",
    "- Selling at prices[3] = 8\n",
    "- Buying at prices[4] = 4\n",
    "- Selling at prices[5] = 9\n",
    "The total profit is ((8 - 1) - 2) + ((9 - 4) - 2) = 8.\n",
    "```\n",
    "Constraints:\n",
    "\n",
    "```\n",
    "1 <= prices.length <= 5 * 10e4\n",
    "1 <= prices[i] < 5 * 10e4\n",
    "0 <= fee < 5 * 10e4\n",
    "```"
   ]
  },
  {
   "cell_type": "code",
   "execution_count": 11,
   "id": "dab7905a-096a-4ac4-b685-245a5d9e61a6",
   "metadata": {},
   "outputs": [],
   "source": [
    "# version 1: buy any dip, sell any profitable peak (no profit less than 3).\n",
    "# does not rely on future step information, decision is made right now\n",
    "# time O(N), space O(1)\n",
    "class Solution(object):\n",
    "    def maxProfit(self, prices, fee):\n",
    "        \"\"\"\n",
    "        :type prices: List[int]\n",
    "        :type fee: int\n",
    "        :rtype: int\n",
    "        \"\"\"\n",
    "        N = len(prices)\n",
    "        # state 0 for empty, 1 for holding\n",
    "        R = [0, -60000]\n",
    "        R_new = [-60000, -60000] # our temporary variable\n",
    "        for k in range(1,N):\n",
    "            price_yesterday = prices[k-1]\n",
    "            R_new[0] = max(R[0],R[1]+price_yesterday-fee)\n",
    "            R_new[1] = max(R[0]-price_yesterday,R[1])\n",
    "            # update R\n",
    "            R = R_new[:] # a deep copy, whereas R = R_new is a shallow copy\n",
    "        # clear the holding stock value on last day\n",
    "        R[1] = R[1]+prices[-1]-fee\n",
    "        return max(R)"
   ]
  },
  {
   "cell_type": "code",
   "execution_count": null,
   "id": "16a15114-fef0-409c-9f21-4a41b5bbc6d6",
   "metadata": {},
   "outputs": [],
   "source": [
    "# version 2: memory optimized version of version 1 (from solution)\n",
    "class Solution(object):\n",
    "    def maxProfit(self, prices, fee):\n",
    "        cash, hold = 0, -prices[0]\n",
    "        for i in range(1, len(prices)):\n",
    "            cash = max(cash, hold + prices[i] - fee)\n",
    "            hold = max(hold, cash - prices[i])\n",
    "        return cash"
   ]
  },
  {
   "cell_type": "code",
   "execution_count": 12,
   "id": "b009c128-55cf-404b-8163-b397f87ec4e0",
   "metadata": {},
   "outputs": [
    {
     "name": "stdout",
     "output_type": "stream",
     "text": [
      "input [1,3,2,8,4,9], 2, expect 8\n",
      "8\n",
      "input [1,3,7,5,10,3], 3, expect 6\n",
      "6\n"
     ]
    }
   ],
   "source": [
    "# test cases\n",
    "\n",
    "s = Solution()\n",
    "print('input [1,3,2,8,4,9], 2, expect 8')\n",
    "print(s.maxProfit([1,3,2,8,4,9],2))\n",
    "\n",
    "print('input [1,3,7,5,10,3], 3, expect 6')\n",
    "print(s.maxProfit([1,3,7,5,10,3],3))\n"
   ]
  },
  {
   "cell_type": "code",
   "execution_count": null,
   "id": "bf36ebde-5fda-491b-bf89-bba85017c432",
   "metadata": {},
   "outputs": [],
   "source": []
  }
 ],
 "metadata": {
  "kernelspec": {
   "display_name": "Python 3 (ipykernel)",
   "language": "python",
   "name": "python3"
  },
  "language_info": {
   "codemirror_mode": {
    "name": "ipython",
    "version": 3
   },
   "file_extension": ".py",
   "mimetype": "text/x-python",
   "name": "python",
   "nbconvert_exporter": "python",
   "pygments_lexer": "ipython3",
   "version": "3.8.12"
  }
 },
 "nbformat": 4,
 "nbformat_minor": 5
}
